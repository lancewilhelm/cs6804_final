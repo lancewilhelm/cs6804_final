{
 "cells": [
  {
   "cell_type": "markdown",
   "metadata": {},
   "source": [
    "# Generate the Dataset\n"
   ]
  },
  {
   "cell_type": "code",
   "execution_count": 1,
   "metadata": {},
   "outputs": [
    {
     "name": "stderr",
     "output_type": "stream",
     "text": [
      "/home/lance/miniconda3/envs/test/lib/python3.12/site-packages/tqdm/auto.py:21: TqdmWarning: IProgress not found. Please update jupyter and ipywidgets. See https://ipywidgets.readthedocs.io/en/stable/user_install.html\n",
      "  from .autonotebook import tqdm as notebook_tqdm\n"
     ]
    }
   ],
   "source": [
    "import LLM\n",
    "import json\n",
    "import requests\n",
    "from langchain_community.vectorstores import SKLearnVectorStore\n",
    "from langchain_core.tools import Tool\n",
    "from langchain_community.document_loaders import WebBaseLoader\n",
    "from langchain_community.embeddings import SentenceTransformerEmbeddings\n",
    "from langchain_text_splitters import SentenceTransformersTokenTextSplitter\n",
    "from sentence_transformers import CrossEncoder\n",
    "from pypdf import PdfReader\n",
    "import os\n",
    "from tqdm import tqdm\n",
    "import numpy as np\n",
    "from dotenv import load_dotenv, find_dotenv\n",
    "import time\n",
    "import csv\n",
    "import pandas as pd\n",
    "\n",
    "_ = load_dotenv(find_dotenv())  # read local .env file"
   ]
  },
  {
   "cell_type": "markdown",
   "metadata": {},
   "source": [
    "# Setup Local RAG DB\n"
   ]
  },
  {
   "cell_type": "markdown",
   "metadata": {},
   "source": [
    "### Load Embedding Functions\n"
   ]
  },
  {
   "cell_type": "code",
   "execution_count": 2,
   "metadata": {},
   "outputs": [],
   "source": [
    "ef = SentenceTransformerEmbeddings(model_name='BAAI/bge-large-en-v1.5', model_kwargs={'device':'cuda'})\n",
    "reranker = CrossEncoder('BAAI/bge-reranker-large', device='cuda')"
   ]
  },
  {
   "cell_type": "markdown",
   "metadata": {},
   "source": [
    "### Load Documents and Chunk\n"
   ]
  },
  {
   "cell_type": "code",
   "execution_count": 3,
   "metadata": {},
   "outputs": [],
   "source": [
    "# meta_lookup = {\n",
    "#     \"Applied Empathy_ The New Language of Leade - Michael Ventura.pdf\" : {\n",
    "#         'author': \"Michael Ventura\",\n",
    "#         'title': \"Applied Empathy: The New Language of Leadership\"\n",
    "#     },\n",
    "#     \"Discursive Leadership_ In Conversation Wit - Gail T Fairhurst.pdf\" : {\n",
    "#         'author': \"Gail T Fairhurst\",\n",
    "#         'title': \"Discursive Leadership: In Conversation with Leadership Psychology\"\n",
    "#     },\n",
    "#     \"Leadership_ A Communication Perspective, S - Craig E. Johnson.pdf\" : {\n",
    "#         'author': \"Craig E. Johnson\",\n",
    "#         'title': \"Leadership: A Communication Perspective\"\n",
    "#     },\n",
    "#     \"Leadership_ Theory and Practice - Peter G. Northouse.pdf\": {\n",
    "#         'author': \"Peter G. Northouse\",\n",
    "#         'title': \"Leadership: Theory and Practice\"\n",
    "#     },\n",
    "#     \"Primal Leadership_ Unleashing the Power of - Daniel Goleman.pdf\": {\n",
    "#         'author': \"Daniel Goleman, Richard E. Boyatzis, Annie McKee\",\n",
    "#         'title': \"Primal Leadership: Unleashing the Power of Emotional Intelligence\"\n",
    "#     },\n",
    "# }\n",
    "\n",
    "# token_splitter = SentenceTransformersTokenTextSplitter(chunk_overlap=0, tokens_per_chunk=512, model_name='BAAI/bge-large-en-v1.5')\n",
    "# token_split_texts = []\n",
    "# metadatas = []\n",
    "# for fp in os.listdir('knowledge'):\n",
    "#     reader = PdfReader('knowledge/' + fp)\n",
    "#     pdf_text = [p.extract_text().strip() for p in reader.pages]\n",
    "#     for page, text in enumerate(pdf_text):\n",
    "#         if text:\n",
    "#             split_texts = token_splitter.split_text(text)\n",
    "#             token_split_texts += split_texts\n",
    "#             meta = meta_lookup[fp].copy()\n",
    "#             meta['page'] = page\n",
    "#             metadatas += [meta] * len(split_texts)\n",
    "\n",
    "# len(token_split_texts)"
   ]
  },
  {
   "cell_type": "markdown",
   "metadata": {},
   "source": [
    "### Create the Local Vector DB"
   ]
  },
  {
   "cell_type": "code",
   "execution_count": 4,
   "metadata": {},
   "outputs": [],
   "source": [
    "persist_path = os.path.join('storage', 'vectordb.parquet')"
   ]
  },
  {
   "cell_type": "code",
   "execution_count": 5,
   "metadata": {},
   "outputs": [],
   "source": [
    "# vector_store = SKLearnVectorStore.from_texts(\n",
    "#     texts=token_split_texts,\n",
    "#     embedding=ef,\n",
    "#     metadatas=metadatas,\n",
    "#     persist_path=persist_path,\n",
    "#     serializer='parquet',\n",
    "# )\n",
    "\n",
    "# vector_store.persist()"
   ]
  },
  {
   "cell_type": "code",
   "execution_count": 6,
   "metadata": {},
   "outputs": [],
   "source": [
    "vector_store = SKLearnVectorStore(\n",
    "    embedding=ef,\n",
    "    persist_path=persist_path,\n",
    "    serializer='parquet',\n",
    ")"
   ]
  },
  {
   "cell_type": "code",
   "execution_count": 7,
   "metadata": {},
   "outputs": [],
   "source": [
    "def get_local_search_results(query: str, vector_store, k: int = 10, n: int = 2, rerank: bool = True) -> list:\n",
    "    \"\"\"Searches the local vector DB for documents related to the provided query and returns them in a list\n",
    "\n",
    "    Args:\n",
    "        query (str): search query\n",
    "        vector_store: the langchain vector database object which to search in\n",
    "        k (int): number of documents to intially retrieve from the database (defaults to 10)\n",
    "        n (int): number of documents to return from this function (defaults to 2)\n",
    "        rerank (bool): whether to perform reranking on the retrieved documents (defaults to True)\n",
    "\n",
    "    Returns:\n",
    "        list: list of documents that are related to search query ordered by similarity\n",
    "    \"\"\"\n",
    "\n",
    "    retrieved = vector_store.similarity_search(query, k=k)\n",
    "    \n",
    "    if rerank:\n",
    "        pairs = [[query, doc.page_content] for doc in retrieved]\n",
    "        scores = reranker.predict(pairs)\n",
    "        top_n_idx = list(np.argsort(scores)[::-1][:n])\n",
    "        top_n = [retrieved[i] for i in top_n_idx]\n",
    "    else:\n",
    "        top_n = retrieved[:n]\n",
    "\n",
    "    return top_n"
   ]
  },
  {
   "cell_type": "code",
   "execution_count": 8,
   "metadata": {},
   "outputs": [
    {
     "data": {
      "text/plain": [
       "[Document(page_content='218 chapter seven rule 1 : be absent from as many group meetings as possible. don ’ t explain why you didn ’ t attend. rule 2 : contribute very little to the interaction. rule 3 : volunteer to be the secretary or the record keeper of your group ’ s discussion. this is an important role, but a recorder or secretary rarely ends up as the group ’ s leader. rule 4 : indicate that you are willing to do what you are told. while disinterest guarantees avoiding leadership responsibilities, subservience is not per - ceived as a leadership quality. rule 5 : come on [ too ] strong early in the group discussions. be extreme ; appear unwilling to compromise. rule 6 : try to assume the role of joker. make sure your jokes are off the topic and never let on that you are serious about anything. rule 7 : demonstrate your knowledge of everything, including your extensive vocab - ulary of big words and technical jargon. be a know - it - all and use words that others in the group won ’ t understand. rule 8 : demonstrate a contempt for leadership. express your dislike for all kinds of leaders and the idea of leadership itself. avoiding the behaviors identified by fisher and ellis works in the reverse and increases the possibility of eventually emerging as the leader of a group. useful strategies identifying negative behaviors that eliminate leader contenders is easier than isolating positive behaviors that are essential to leadership emergence. however, the following communication strategies can boost your chances of emerging as agroup leader. participate early and often. the link between participation and leadership is the most consistent finding in small group leadership research. 11 participation demon - strates both your motivation to lead and your commitment to the group. impressionsabout who would and would not make a suit able leader begin to take shape almost immediately after a group is formed. 12 begin contributing in the group ’ s first session. focus on communication quality as well as quantity. frequent participation earns you consideration as a leader. however, communicating the wrong mes - sages — rigidity, contempt, irrelevance — can keep you from moving into the leader - ship position. communication behaviors that are positively correlated withemergent leadership include : setting goals, giving directions, managing tensionand conflict, and summarizing. 13 not only is quality communication essential to becoming a leader, but effective leadership communication helps the group as awhole. groups are most likely to make good decisions when their most influential members facilitate discussion by asking questions, challenging poor assumptions, clarifying', metadata={'id': '76013da1-67cd-46a0-8a14-a9b0e9fc6fff', 'author': 'Craig E. Johnson', 'page': 236, 'title': 'Leadership: A Communication Perspective'}),\n",
       " Document(page_content='68 chapter two words. use more inclusive language like “ us ” and “ we ” instead of “ i ” and “ you. ” frequently communicate shared values and reward behavior that serves common goals. 8. respect and maintain the group ’ s soci al identity. once co llective identity is activated, it exercises strong influence over the thoughts and behavior ofgroup members. emphasize how your group is distinctive and look out for the interests of the team and team members. be prepared to sacrifice on the group ’ s behalf ; follow fair procedures. set the emotional tone for the groupwhile expressing emotions appropriate to the situation. chapter takeaways • one factor that contributes to variations in leader effectiveness is communica - tion style. leadership communication style is a relatively enduring set of com - municative behaviors that a leader engages in when interacting with followers. • authoritarian leaders maintain strict control over followers by directly regulating policy, procedures, and behavior. authoritarian leaders create distance betweenthemselves and their followers as a means of emphasizing role distinctions. manyauthoritarian leaders believe that followers would not function effectively withoutdirect supervision. the authoritarian leader generally feels that people left to com - plete work on their own will be unproductive. as a leader, recognize that an author - itarian style can boost output, but reduces follower satisfaction and commitment. • democratic leaders engage in supportive communication that facilitates interaction between leaders and followers. the leader adopting the democratic communication style encourages follower involvement and participation in the determination ofgoals and procedures. democratic leaders assume that followers are capable ofmaking informed decisions. the democratic style of leadership is often most effec - tive, being associated with increased follower productivity, satisfaction, andinvolvement / commitment. • laissez - faire refers to a form of leader communication that has been called non - leadership by some. an ineffective version of this leadership communicationstyle involves abdication of responsibility on the part of the leader ; leaders with - draw from followers and offer little guidance or support. as a result, productiv - ity, cohesiveness, and satisfaction often suffer. a more positive form of thelaissez - faire leadership communication style affords followers a high degree ofautonomy and self - rule while, at the sa me time, offering guidance and support when requested. the laissez - faire approach works best when used with highlyknowledgeable and motivated experts. • a number of researchers have concluded that leadership consists of two primary communication', metadata={'id': '97ecfee9-a438-4582-8fe3-a0e1d68e4703', 'author': 'Craig E. Johnson', 'page': 86, 'title': 'Leadership: A Communication Perspective'})]"
      ]
     },
     "execution_count": 8,
     "metadata": {},
     "output_type": "execute_result"
    }
   ],
   "source": [
    "get_local_search_results('leadership communication tips', vector_store)"
   ]
  },
  {
   "cell_type": "code",
   "execution_count": 9,
   "metadata": {},
   "outputs": [
    {
     "data": {
      "text/plain": [
       "[Document(page_content='3 ) be careful how you view your fol - lower role, ( 4 ) know your audience, ( 5 ) don ’ t underestimate social influence, ( 6 ) performance counts, ( 7 ) be flexible, ( 8 ) focus attention on the “ we, ” not the “ me, ” and respect and reflect the group ’ s identity. application exercises 1. make a list of the qualities that you believe are important for effective leader - ship. compare your list with the communicative behaviors listed in table 2. 1, p. 42. do effective leaders seem to adopt one leadership communication stylemore than others? / ornament22johnson - hackman 7e. book page 69 wednesday, january 10, 2018 1 : 42 pm', metadata={'id': '33465323-cf74-46f7-9d3d-0c2f7aff539d', 'author': 'Craig E. Johnson', 'page': 87, 'title': 'Leadership: A Communication Perspective'}),\n",
       " Document(page_content='70 chapter two 2. in what types of situations do you believe each of the leadership communica - tion styles identified in this chapter would be most effective? least effective? 3. try to think of historical examples of leaders who adopted one of the five grid positions identified by blake and mcc anse. which of these leaders was most effective? why? 4. in a group, develop a list of the characteristics of good and bad followers. report your findings to the rest of the class. 5. determine if you are a task or relationally oriented leader using the scale found in box 2. 4. then divide into task and relational groups. in your group, discuss the following : what are the advantages and disadvantages of your style? of theother style? what frustrates you about the other style? what do you wish they knew about your style? then meet with the other team and share yourresponses. draw conclusions based on what each group shares. 6. identify your follower communication style using the self - assessment question - naire found in box 2. 5. why do you think you have adopted this style? what areyour strengths and weaknesses as a follower? if you ’ re not an exemplary fol - lower, develop a strategy for becoming one. if you categorized yourself as exem - plary, what can you do to become even more effective? write up your findings. 7. in a group, discuss the relationship between leadership and followership styles. based on your past experience, identify how leader communicationstyles have affected your performance as a follower. try to pinpoint the leader - ship behaviors you think are most important in promoting exemplary andtranscendent followership. 8. reflect on your past experiences with leadership and try to identify how your view of the most / least desirable leadership communication styles has beenaffected. what have been the primary influences on your view ( home, work, school, other )? 9. describe your prototypical political leader, student body president, professor, and supervisor at work. how are these images similar? different? why? as analternative, select a group that you might want to lead. describe the prototypi - cal leader for this group. what leadership communication style would youneed to use to be selected for this role? 10. keep a record of your leadership / followership activities over a period of one to two weeks. evaluate your efforts in light of the information - processing andidentity approaches. cultural connections : the', metadata={'id': '5ef4cae8-5457-4570-bad0-33cdefb34651', 'author': 'Craig E. Johnson', 'page': 88, 'title': 'Leadership: A Communication Perspective'})]"
      ]
     },
     "execution_count": 9,
     "metadata": {},
     "output_type": "execute_result"
    }
   ],
   "source": [
    "get_local_search_results('leadership communication tips', vector_store, rerank=False)"
   ]
  },
  {
   "cell_type": "markdown",
   "metadata": {},
   "source": [
    "## Setup Web Search RAG\n"
   ]
  },
  {
   "cell_type": "markdown",
   "metadata": {},
   "source": [
    "### Create the Web Vector DB"
   ]
  },
  {
   "cell_type": "code",
   "execution_count": 10,
   "metadata": {},
   "outputs": [],
   "source": [
    "def get_web_search_results(query: str, search_k: int = 5, rag_k: int = 10, n: int = 2, rerank: bool = True) -> list:\n",
    "    \"\"\"Searches Google via Serper with the provided query and returns the results\n",
    "\n",
    "    Args:\n",
    "        query (str): search query\n",
    "        seach_k (int): number of Google search results to return and store in web_store (defaults to 5)\n",
    "        rag_k (int): number of documents to retrieve the web store (defaults to 10)\n",
    "        n (int): number of documents to return from this function (defaults to 2)\n",
    "        rerank (bool): whether to perform reranking on the retrieved documents (defaults to True)\n",
    "\n",
    "    Returns:\n",
    "        list: list of documents that are related to search query ordered by similarity\n",
    "    \"\"\"\n",
    "    web_store = SKLearnVectorStore(\n",
    "        embedding=ef,\n",
    "        serializer='parquet',\n",
    "    )\n",
    "    url = 'https://google.serper.dev/search'\n",
    "    headers = {\n",
    "    'X-API-KEY': os.environ['SERPER_API_KEY'],\n",
    "    'Content-Type': 'application/json'\n",
    "    }\n",
    "    payload = json.dumps({\n",
    "        \"q\": query,\n",
    "        \"num\": search_k\n",
    "        })\n",
    "    response = requests.request(\"POST\", url, headers=headers, data=payload)\n",
    "    search_results = json.loads(response.text)['organic']\n",
    "    links = [x['link'] for x in search_results]\n",
    "    metadatas = [{'title': x['title'], 'link': x['link']} for x in search_results]\n",
    "    docs = WebBaseLoader(links).load()\n",
    "    for i in range(len(docs)):\n",
    "        docs[i].metadata = metadatas[i]\n",
    "    texts = SentenceTransformersTokenTextSplitter(chunk_overlap=0, tokens_per_chunk=512, model_name='BAAI/bge-large-en-v1.5').split_documents(docs)\n",
    "    web_store.add_documents(texts)\n",
    "\n",
    "    retrieved = web_store.similarity_search(query, k=rag_k)\n",
    "    \n",
    "    if rerank:\n",
    "        pairs = [[query, doc.page_content] for doc in retrieved]\n",
    "        scores = reranker.predict(pairs)\n",
    "        top_n_idx = list(np.argsort(scores)[::-1][:n])\n",
    "        top_n = [retrieved[i] for i in top_n_idx]\n",
    "    else:\n",
    "        top_n = retrieved[:n]\n",
    "\n",
    "    return top_n"
   ]
  },
  {
   "cell_type": "code",
   "execution_count": 11,
   "metadata": {},
   "outputs": [
    {
     "data": {
      "text/plain": [
       "[Document(page_content='and great leader. whether you ’ re an executive, a manager or are simply looking to develop your leadership skills, there ’ s never been a better time to fine - tune your communication skills. in this article, we ’ ll explore why communication matters in leadership and how to level up your communication skills. why is communication important in leadership? according to a report from the economist intelligence unit on communication barriers in the workplace, it ’ s clear that communication has a big impact on work. out of the 403 corporate staff surveyed ( including executives, managers and junior employees ) : 44 % said communication barriers led to a failure to complete projects on time or at all. 33 % said poor communication causes low team morale. 25 % attributed a lack of communication to missed performance goals. 18 % said miscommunication led to the loss of a sale, a third of which is estimated to be over $ 100, 000 ( £82, 778 ). likewise, in a report by forbes advisor, over 40 % of employees said that poor communication affected their productivity, job satisfaction and stress levels. communication matters and as a leader who communicates with team members, managers, stakeholders and customers, here are just a few more reasons why it should matter to you too. great teams have great communication. the best ideas come from teams that work together, listen to each other and feel comfortable enough to voice their opinions. clear communication means more creativity. allowing for different ideas, strategies and new ways of thinking promotes a creative and innovative work environment. leaders who communicate effectively are seen as more trustworthy. 43 % of on - site employees ( and 54 % of remote workers ) reported that poor communication impacted their trust in leadership. leaders who can communicate effectively are more likely to be trusted. effective communication is the foundation to great leadership. being able to progress individually, and with a team, and achieve your goals all starts with being able to communicate. leadership and career vision nano - mba 6 weekspostgraduateflexible learning apply now leadership communication tips so how do you communicate like a leader? we ’ re glad you asked. here are ten tips you can use to start improving your leadership communication skills. 1. don ’ t underestimate the importance of clarity as any professional knows, clarity is king. being able to distil difficult ideas into easy - to - understand concepts is paramount to a lot of roles, and it ’ s no different in a leadership position. conveying a clear message that can be understood by your target audience is crucial, whether that', metadata={'id': 'dc2017c6-8dff-4dad-a270-34c87f5a3d67', 'title': 'How to communicate like a leader: 10 leadership communication tips', 'link': 'https://www.futurelearn.com/info/blog/how-to-communicate-like-a-leader-10-leadership-communication-tips'}),\n",
       " Document(page_content='them to work toward common objectives. a leader ’ s most powerful tool for doing so is communication. effective communication is vital to gain trust, align efforts in the pursuit of goals, and inspire positive change. when communication is lacking, important information can be misinterpreted, causing relationships to suffer and, ultimately, creating barriers that hinder progress. if you ’ re interested in enhancing your leadership capabilities, here are eight communication skills you need to be more effective in your role. essential communication skills for leaders 1. ability to adapt your communication style different communication styles are the most frequently cited cause of poor communication, according to the economist intelligence unit ( pdf ), and can lead to more significant issues, such as unclear priorities and increased stress. it ’ s essential to identify your leadership style, so that you can better understand how you ’ re interacting with, and perceived by, employees across the organization. for example, if you ’ re an authoritative leader, you likely have a clear vision for achieving success and align your team accordingly. while an effective approach for some, it might fall flat for others who seek more autonomy in their role. every employee ’ s motivations are different, so knowing how to tailor your communication is essential to influencing others and reaching organizational goals. related : 4 tips for developing your personal leadership style 2. active listening effective leaders know when they need to talk and, more importantly, when they need to listen. show that you care by asking for employees ’ opinions, ideas, and feedback. and when they do share, actively engage in the conversation — pose questions, invite them to elaborate, and take notes. it ’ s important to stay in the moment and avoid interrupting. keep your focus on the employee and what it is they ’ re saying. to achieve that, you also need to eliminate any distractions, including constant pings on your cell phone or checking incoming emails. 3. transparency in a survey by the american management association, more than a third of senior managers, executives, and employees said they “ hardly ever ” know what ’ s going on in their organizations. transparency can go a long way in breaking down that communication barrier. by speaking openly about the company ’ s goals, opportunities, and challenges, leaders can build trust amongst their team and foster an environment where employees feel empowered to share their ideas and collaborate. just acknowledging mistakes can encourage experimentation and create a safe space for active problem - solving. every individual should understand the role they play in the company ’ s success. the more transparent leaders are, the easier it', metadata={'id': '5ed8a626-e386-4f82-8cd5-29fa45029eae', 'title': '8 Essential Leadership Communication Skills | HBS Online', 'link': 'https://online.hbs.edu/blog/post/leadership-communication'})]"
      ]
     },
     "execution_count": 11,
     "metadata": {},
     "output_type": "execute_result"
    }
   ],
   "source": [
    "get_web_search_results('leadership communication tips')"
   ]
  },
  {
   "cell_type": "markdown",
   "metadata": {},
   "source": [
    "## Setup Feedback Refinement Pipeline\n"
   ]
  },
  {
   "cell_type": "code",
   "execution_count": 49,
   "metadata": {},
   "outputs": [],
   "source": [
    "config = {\n",
    "    \"coach_system_prompt\": \"You are an expert leadership coach with lots of knowledge of leadership theory. You observe a role-play dialogue between a human trainee and an AI actor.\\n\\nThe human user is <user_name>, and the actor is <actor_name>.\",\n",
    "    \"feedback_task\": \"Your specific job is the following:\\nEvaluate the last communication from <user_name>. Provide feedback addressing <user_name> based on leadership theory and approaches that could help them improve their communication to become more effective. Only critique <user_name>'s communication and not <actor_name>'s.\\n\\nThe current dialogue is given between the triple backticks below.\\n```{dialogue}```\",\n",
    "    \"feedback_task_output_format\": \"The output should be formatted as a JSON instance that conforms to the JSON schema below.\\n\\nHere is the output schema:\\n```\\n{\\\"properties\\\": {\\\"item_title\\\": {\\\"title\\\": \\\"Item Title\\\", \\\"description\\\": \\\"title for detailed items to improve\\\", \\\"type\\\": \\\"string\\\", \\\"items\\\": {\\\"type\\\": \\\"string\\\"}}, \\\"item\\\": {\\\"title\\\": \\\"Item\\\", \\\"description\\\": \\\"detail of the item to improve\\\", \\\"type\\\": \\\"string\\\"}}, \\\"required\\\": [\\\"item_title\\\", \\\"item\\\"]}\\n```\"\n",
    "}\n",
    "\n",
    "rag_task = \"Your specific job is to generate a query for the feedback item to search for the relevant information based on the feedback that you previously provided. The feedback items are given in a markdown list. This feedback is given between the XML <feedback></feedback> tags below.\\n\\n<feedback>\\n{feedback}</feedback>\\n\\n\"\n",
    "rag_task_output_format = \"The output should be formatted as a JSON instance that conforms to the following JSON schema {'query': ''}\"\n",
    "\n",
    "feedback_refinement_task = \"Your specific job is to refine the feedback that you provided to the user based on the following information retrieved from leadership and communication books. Each query and documents relate to one of the feedback items. Please cite the reference if you use it. If the metadata has a link element create a hyperlink with the title using a markdown link format. The feedback is given in the XML tags <feedback></feedback> and the retrieved documents are given in the XML tags <retrieved></retrieved>.\\n\\n<feedback>\\n{feedback}</feedback>\\n<retrieved>\\n{retrieved}</retrieved>\\n\\n\"\n",
    "\n",
    "CoachFeedback = LLM.OpenAIChatLLMAgent(store_responses=False, response_format={'type':'json_object'}, model='gpt-4-0125-preview', temperature=0.0)\n",
    "CoachFeedback.system_prompt = config['coach_system_prompt'].format(**config)\n",
    "\n",
    "CoachQuery = LLM.OpenAIChatLLMAgent(store_responses=False, response_format={'type':'json_object'}, model='gpt-3.5-turbo-0125', temperature=0.0)\n",
    "CoachQuery.system_prompt = config['coach_system_prompt'].format(**config)"
   ]
  },
  {
   "cell_type": "markdown",
   "metadata": {},
   "source": [
    "### Import Feedback Messages\n"
   ]
  },
  {
   "cell_type": "code",
   "execution_count": 13,
   "metadata": {},
   "outputs": [
    {
     "data": {
      "text/plain": [
       "35"
      ]
     },
     "execution_count": 13,
     "metadata": {},
     "output_type": "execute_result"
    }
   ],
   "source": [
    "with open('data/feedback_msgs.json') as f:\n",
    "    feedback_msgs = json.load(f)\n",
    "len(feedback_msgs)"
   ]
  },
  {
   "cell_type": "code",
   "execution_count": 14,
   "metadata": {},
   "outputs": [
    {
     "data": {
      "text/plain": [
       "119"
      ]
     },
     "execution_count": 14,
     "metadata": {},
     "output_type": "execute_result"
    }
   ],
   "source": [
    "# Get only the detailed feedback messages\n",
    "detailed_feedback = []\n",
    "for msg in feedback_msgs:\n",
    "    for i in range(len(msg['content']['item_titles'])):\n",
    "        detailed_feedback.append(f\"{msg['content']['item_titles'][i]}: {msg['content']['items'][i]}\\n\".replace('<actor_name>','Taylor'))\n",
    "len(detailed_feedback)"
   ]
  },
  {
   "cell_type": "markdown",
   "metadata": {},
   "source": [
    "### Generate Refined Feedback for Each Detailed Feedback\n"
   ]
  },
  {
   "cell_type": "code",
   "execution_count": 50,
   "metadata": {},
   "outputs": [],
   "source": [
    "def generate_query(feedback: str) -> str:\n",
    "    msg = rag_task.format(feedback=feedback) + rag_task_output_format\n",
    "    r = CoachFeedback.run(message=msg, temporary_message=True)\n",
    "    try:\n",
    "        return r\n",
    "    except:\n",
    "        raise ValueError\n",
    "\n",
    "def refine_feedback_local(feedback: str, query: str) -> dict:\n",
    "    \"\"\"Refines the feedback based on the retrieved documents from the local vector database\n",
    "\n",
    "    Args:\n",
    "        feedback (str): the feedback item to refine\n",
    "        query (str): the query to search for the relevant information\n",
    "\n",
    "    Returns:\n",
    "        dict: the refined feedback in form {'item_title': '...', 'item': '...'}\n",
    "    \"\"\"\n",
    "    docs = get_local_search_results(query, vector_store)\n",
    "    retrieved = ''\n",
    "    retrieved += f'Query: {query}\\n'\n",
    "    for i, doc in enumerate(docs):\n",
    "        retrieved += f\"Doc{i+1}: {doc.page_content}\\n\"\n",
    "        retrieved += f\"Metadata{i+1}: {doc.metadata}\\n\"\n",
    "\n",
    "    msg = feedback_refinement_task.format(feedback=feedback, retrieved=retrieved) + config['feedback_task_output_format']\n",
    "    r = CoachFeedback.run(message=msg, temporary_message=True)\n",
    "    return r\n",
    "\n",
    "def refine_feedback_web(feedback: str, query: str):\n",
    "    \"\"\"Refines the feedback based on the retrieved documents from the web search\n",
    "\n",
    "    Args:\n",
    "        feedback (str): the feedback item to refine\n",
    "        query (str): the query to search for the relevant information\n",
    "\n",
    "    Returns:\n",
    "        dict: the refined feedback in form {'item_title': '...', 'item': '...'}\n",
    "    \"\"\"\n",
    "    docs = get_web_search_results(query)\n",
    "    retrieved = ''\n",
    "    retrieved += f'Query: {query}\\n'\n",
    "    for i, doc in enumerate(docs):\n",
    "        retrieved += f\"Doc{i+1}: {doc.page_content}\\n\"\n",
    "        retrieved += f\"Metadata{i+1}: {doc.metadata}\\n\"\n",
    "\n",
    "    msg = feedback_refinement_task.format(feedback=feedback, retrieved=retrieved) + config['feedback_task_output_format']\n",
    "    r = CoachFeedback.run(message=msg, temporary_message=True)\n",
    "    return r"
   ]
  },
  {
   "cell_type": "code",
   "execution_count": 57,
   "metadata": {},
   "outputs": [],
   "source": [
    "# Generate holder for the feedback\n",
    "df = pd.DataFrame(columns=['feedback', 'query', 'query_t', 'feedback_local', 'feedback_local_time', 'feedback_local_c_tokens', 'feedback_local_p_tokens', 'feedback_web', 'feedback_web_time', 'feedback_web_c_tokens', 'feedback_web_p_tokens'])"
   ]
  },
  {
   "cell_type": "code",
   "execution_count": 68,
   "metadata": {},
   "outputs": [
    {
     "name": "stderr",
     "output_type": "stream",
     "text": [
      "  9%|▉         | 11/119 [05:03<42:36, 23.67s/it] "
     ]
    },
    {
     "name": "stdout",
     "output_type": "stream",
     "text": [
      "Error refining web feedback for 10: \"Empowering the Employee: Empower your employee by asking if there are any obstacles you can help remove or if there's anything they need to be more effective in their role. This not only shows that you care about their well-being but also encourages them to take ownership of their work and the challenges they face.\n",
      "\"\n"
     ]
    },
    {
     "name": "stderr",
     "output_type": "stream",
     "text": [
      " 26%|██▌       | 31/119 [14:41<38:43, 26.41s/it]"
     ]
    },
    {
     "name": "stdout",
     "output_type": "stream",
     "text": [
      "Error refining web feedback for 30: \"Express Empathy: Given that you're about to ask Bobby to work extra hours, expressing empathy and acknowledging their efforts can go a long way in maintaining a positive relationship. Before making your request, consider saying something like, 'I realize you've been putting in a lot of effort, and I appreciate your hard work on this project.'\n",
      "\"\n"
     ]
    },
    {
     "name": "stderr",
     "output_type": "stream",
     "text": [
      " 30%|███       | 36/119 [16:55<34:54, 25.23s/it]"
     ]
    },
    {
     "name": "stdout",
     "output_type": "stream",
     "text": [
      "Error refining web feedback for 35: \"Express Empathy: Starting the conversation by asking about the project's progress is a good approach, but it's important to also express understanding of the employee's workload and any challenges they may be facing. This can help in building a rapport and making the employee feel supported.\n",
      "\"\n"
     ]
    },
    {
     "name": "stderr",
     "output_type": "stream",
     "text": [
      " 37%|███▋      | 44/119 [20:39<30:20, 24.27s/it]"
     ]
    },
    {
     "name": "stdout",
     "output_type": "stream",
     "text": [
      "Error refining web feedback for 43: \"Expressing Urgency: Given the critical nature of the deadline, it's important to communicate the urgency of the situation. You could say something like, 'I've noticed that we're behind on our milestones for the XYZ project, and it's crucial that we meet our upcoming deadline.' This sets the stage for the request for extra work and explains the reason behind it.\n",
      "\"\n"
     ]
    },
    {
     "name": "stderr",
     "output_type": "stream",
     "text": [
      " 73%|███████▎  | 87/119 [40:31<12:33, 23.56s/it]"
     ]
    },
    {
     "name": "stdout",
     "output_type": "stream",
     "text": [
      "Error refining web feedback for 86: \"Empathy and Understanding: Empathy and Understanding: Given the sensitive nature of requesting extra work, especially over a weekend, demonstrating empathy is vital. Acknowledge the potential inconvenience and express appreciation for Taylor's efforts. This approach not only shows understanding but also helps in maintaining a positive relationship.\n",
      "\"\n"
     ]
    },
    {
     "name": "stderr",
     "output_type": "stream",
     "text": [
      " 76%|███████▋  | 91/119 [42:11<10:57, 23.49s/it]"
     ]
    },
    {
     "name": "stdout",
     "output_type": "stream",
     "text": [
      "Error refining web feedback for 90: \"Motivate and Support: Motivate and Support: Highlighting the importance of Taylor's role in the project's success can be motivating. Additionally, offering support, whether it's resources, assistance from other team members, or flexibility in other areas, can demonstrate your commitment to their well-being and the project's success. For example, 'Your contribution is crucial to meeting our project deadline, and we're here to support you in any way needed to make this as manageable as possible for you.'\n",
      "\"\n"
     ]
    },
    {
     "name": "stderr",
     "output_type": "stream",
     "text": [
      "100%|██████████| 119/119 [56:55<00:00, 28.70s/it]\n"
     ]
    }
   ],
   "source": [
    "# Iterate over each detailed feedback item and generate the other versions\n",
    "for i, feedback in enumerate(tqdm(detailed_feedback, total=len(detailed_feedback))):\n",
    "    # Copy the feedback item over\n",
    "    feedback_none = feedback\n",
    "\n",
    "    # Generate the query to search for documents\n",
    "    start_time = time.time()\n",
    "    try:\n",
    "        query = json.loads(generate_query(feedback).choices[0].message.content)['query']\n",
    "    except: \n",
    "        print(f'Error generating query for {i}: \"{feedback}\"')\n",
    "        pass\n",
    "    query_t = time.time() - start_time\n",
    "    \n",
    "    # Generate the local RAG refined feedback\n",
    "    start_time = time.time()\n",
    "    try:\n",
    "        r = refine_feedback_local(feedback, query)\n",
    "        feedback_local_t = time.time() - start_time\n",
    "        # feedback_local = f\"{r['item_title']}: {r['item']}\"\n",
    "        feedback_local = r\n",
    "    except:\n",
    "        print(f'Error refining local feedback for {i}: \"{feedback}\"')\n",
    "        pass\n",
    "\n",
    "    # Generate the web RAG refined feedback\n",
    "    start_time = time.time()\n",
    "    try:\n",
    "        r = refine_feedback_web(feedback, query)\n",
    "        feedback_web_t = time.time() - start_time\n",
    "        # feedback_web = f\"{r['item_title']}: {r['item']}\"\n",
    "        feedback_web = r\n",
    "    except:\n",
    "        print(f'Error refining web feedback for {i}: \"{feedback}\"')\n",
    "        pass\n",
    "\n",
    "    # Append the results to the dataframe\n",
    "    results = pd.DataFrame({\n",
    "        'feedback': feedback_none,\n",
    "        'query': query,\n",
    "        'query_t': query_t,\n",
    "        'feedback_local': f'{json.loads(feedback_local.choices[0].message.content)['item_title']}: {json.loads(feedback_local.choices[0].message.content)['item']}',\n",
    "        'feedback_local_time': feedback_local_t,\n",
    "        'feedback_local_c_tokens': feedback_local.usage.completion_tokens,\n",
    "        'feedback_local_p_tokens': feedback_local.usage.prompt_tokens,\n",
    "        'feedback_web': f'{json.loads(feedback_web.choices[0].message.content)['item_title']}: {json.loads(feedback_web.choices[0].message.content)['item']}',\n",
    "        'feedback_web_c_tokens': feedback_web.usage.completion_tokens,\n",
    "        'feedback_web_p_tokens': feedback_web.usage.prompt_tokens,\n",
    "        'feedback_web_time': feedback_web_t\n",
    "        }, index=[0])\n",
    "    df = pd.concat([df, results], ignore_index=True)\n",
    "\n",
    "    # Store the results\n",
    "    df.to_csv('data/feedback_results.csv', index=False)\n",
    "    "
   ]
  },
  {
   "cell_type": "code",
   "execution_count": 69,
   "metadata": {},
   "outputs": [
    {
     "data": {
      "text/html": [
       "<div>\n",
       "<style scoped>\n",
       "    .dataframe tbody tr th:only-of-type {\n",
       "        vertical-align: middle;\n",
       "    }\n",
       "\n",
       "    .dataframe tbody tr th {\n",
       "        vertical-align: top;\n",
       "    }\n",
       "\n",
       "    .dataframe thead th {\n",
       "        text-align: right;\n",
       "    }\n",
       "</style>\n",
       "<table border=\"1\" class=\"dataframe\">\n",
       "  <thead>\n",
       "    <tr style=\"text-align: right;\">\n",
       "      <th></th>\n",
       "      <th>feedback</th>\n",
       "      <th>query</th>\n",
       "      <th>query_t</th>\n",
       "      <th>feedback_local</th>\n",
       "      <th>feedback_local_time</th>\n",
       "      <th>feedback_local_c_tokens</th>\n",
       "      <th>feedback_local_p_tokens</th>\n",
       "      <th>feedback_web</th>\n",
       "      <th>feedback_web_time</th>\n",
       "      <th>feedback_web_c_tokens</th>\n",
       "      <th>feedback_web_p_tokens</th>\n",
       "    </tr>\n",
       "  </thead>\n",
       "  <tbody>\n",
       "    <tr>\n",
       "      <th>0</th>\n",
       "      <td>Clarity and Respect: The communication could h...</td>\n",
       "      <td>How to communicate with employees in a profess...</td>\n",
       "      <td>3.455118</td>\n",
       "      <td>Enhancing Professionalism and Respect in Commu...</td>\n",
       "      <td>7.974918</td>\n",
       "      <td>189</td>\n",
       "      <td>2951</td>\n",
       "      <td>Enhancing Professional Communication and Respe...</td>\n",
       "      <td>12.577793</td>\n",
       "      <td>166</td>\n",
       "      <td>2961</td>\n",
       "    </tr>\n",
       "    <tr>\n",
       "      <th>1</th>\n",
       "      <td>Clarity and Respect: The communication could h...</td>\n",
       "      <td>How to communicate with employees in a profess...</td>\n",
       "      <td>1.926185</td>\n",
       "      <td>Enhancing Professionalism and Respect in Commu...</td>\n",
       "      <td>7.883796</td>\n",
       "      <td>192</td>\n",
       "      <td>2951</td>\n",
       "      <td>Enhancing Professional Communication and Respe...</td>\n",
       "      <td>13.009650</td>\n",
       "      <td>167</td>\n",
       "      <td>2958</td>\n",
       "    </tr>\n",
       "    <tr>\n",
       "      <th>2</th>\n",
       "      <td>Consideration and Context: It would be helpful...</td>\n",
       "      <td>How to effectively provide context and explain...</td>\n",
       "      <td>1.043000</td>\n",
       "      <td>Providing Context and Explaining Reasons Behin...</td>\n",
       "      <td>8.090895</td>\n",
       "      <td>192</td>\n",
       "      <td>2904</td>\n",
       "      <td>Consideration and Context in Leadership Commun...</td>\n",
       "      <td>17.359145</td>\n",
       "      <td>208</td>\n",
       "      <td>2955</td>\n",
       "    </tr>\n",
       "    <tr>\n",
       "      <th>3</th>\n",
       "      <td>Express Empathy: Starting the conversation wit...</td>\n",
       "      <td>how to express empathy in leadership communica...</td>\n",
       "      <td>1.673025</td>\n",
       "      <td>Expressing Empathy in Leadership Communication...</td>\n",
       "      <td>8.505779</td>\n",
       "      <td>165</td>\n",
       "      <td>2752</td>\n",
       "      <td>Enhancing Empathy in Leadership Communication:...</td>\n",
       "      <td>14.925500</td>\n",
       "      <td>211</td>\n",
       "      <td>2924</td>\n",
       "    </tr>\n",
       "    <tr>\n",
       "      <th>4</th>\n",
       "      <td>Provide Context: It's important to provide con...</td>\n",
       "      <td>How to effectively provide context and explain...</td>\n",
       "      <td>1.833553</td>\n",
       "      <td>Provide Context and Importance: When making a ...</td>\n",
       "      <td>30.844002</td>\n",
       "      <td>238</td>\n",
       "      <td>2919</td>\n",
       "      <td>Provide Context and Importance: When making a ...</td>\n",
       "      <td>17.712837</td>\n",
       "      <td>265</td>\n",
       "      <td>2951</td>\n",
       "    </tr>\n",
       "    <tr>\n",
       "      <th>...</th>\n",
       "      <td>...</td>\n",
       "      <td>...</td>\n",
       "      <td>...</td>\n",
       "      <td>...</td>\n",
       "      <td>...</td>\n",
       "      <td>...</td>\n",
       "      <td>...</td>\n",
       "      <td>...</td>\n",
       "      <td>...</td>\n",
       "      <td>...</td>\n",
       "      <td>...</td>\n",
       "    </tr>\n",
       "    <tr>\n",
       "      <th>115</th>\n",
       "      <td>Avoiding Assumptions: The statement made an as...</td>\n",
       "      <td>How to avoid making assumptions about an emplo...</td>\n",
       "      <td>1.716659</td>\n",
       "      <td>Enhancing Open Communication and Avoiding Assu...</td>\n",
       "      <td>8.157713</td>\n",
       "      <td>193</td>\n",
       "      <td>2771</td>\n",
       "      <td>Avoiding Assumptions and Engaging in Open Comm...</td>\n",
       "      <td>17.477256</td>\n",
       "      <td>187</td>\n",
       "      <td>3021</td>\n",
       "    </tr>\n",
       "    <tr>\n",
       "      <th>116</th>\n",
       "      <td>Avoid Potentially Judgmental Phrasing: The phr...</td>\n",
       "      <td>How to provide feedback without sounding judgm...</td>\n",
       "      <td>0.788049</td>\n",
       "      <td>Avoiding Judgmental Phrasing While Providing E...</td>\n",
       "      <td>6.127400</td>\n",
       "      <td>161</td>\n",
       "      <td>2816</td>\n",
       "      <td>Avoid Potentially Judgmental Phrasing: When pr...</td>\n",
       "      <td>18.879271</td>\n",
       "      <td>192</td>\n",
       "      <td>2993</td>\n",
       "    </tr>\n",
       "    <tr>\n",
       "      <th>117</th>\n",
       "      <td>Emphasize Collaborative Problem-Solving: While...</td>\n",
       "      <td>How to encourage collaborative problem-solving...</td>\n",
       "      <td>1.157396</td>\n",
       "      <td>Emphasize Collaborative Problem-Solving: To fo...</td>\n",
       "      <td>10.145669</td>\n",
       "      <td>233</td>\n",
       "      <td>2594</td>\n",
       "      <td>Emphasize Collaborative Problem-Solving: To en...</td>\n",
       "      <td>14.321613</td>\n",
       "      <td>197</td>\n",
       "      <td>2937</td>\n",
       "    </tr>\n",
       "    <tr>\n",
       "      <th>118</th>\n",
       "      <td>Express Support for Employee Needs: Expressing...</td>\n",
       "      <td>How to express support for employee needs and ...</td>\n",
       "      <td>3.194340</td>\n",
       "      <td>Enhancing Support for Employee Needs: To bette...</td>\n",
       "      <td>6.891391</td>\n",
       "      <td>154</td>\n",
       "      <td>2172</td>\n",
       "      <td>Enhancing Support for Employee Needs: To bette...</td>\n",
       "      <td>20.936828</td>\n",
       "      <td>165</td>\n",
       "      <td>2988</td>\n",
       "    </tr>\n",
       "    <tr>\n",
       "      <th>119</th>\n",
       "      <td>Clearly Communicate Impact on Team: It's impor...</td>\n",
       "      <td>How to communicate the impact of an employee's...</td>\n",
       "      <td>1.105049</td>\n",
       "      <td>Clearly Communicate Impact on Team Without Att...</td>\n",
       "      <td>7.427195</td>\n",
       "      <td>181</td>\n",
       "      <td>3069</td>\n",
       "      <td>Clearly Communicate Impact on Team Without Att...</td>\n",
       "      <td>13.880876</td>\n",
       "      <td>176</td>\n",
       "      <td>2995</td>\n",
       "    </tr>\n",
       "  </tbody>\n",
       "</table>\n",
       "<p>120 rows × 11 columns</p>\n",
       "</div>"
      ],
      "text/plain": [
       "                                              feedback  \\\n",
       "0    Clarity and Respect: The communication could h...   \n",
       "1    Clarity and Respect: The communication could h...   \n",
       "2    Consideration and Context: It would be helpful...   \n",
       "3    Express Empathy: Starting the conversation wit...   \n",
       "4    Provide Context: It's important to provide con...   \n",
       "..                                                 ...   \n",
       "115  Avoiding Assumptions: The statement made an as...   \n",
       "116  Avoid Potentially Judgmental Phrasing: The phr...   \n",
       "117  Emphasize Collaborative Problem-Solving: While...   \n",
       "118  Express Support for Employee Needs: Expressing...   \n",
       "119  Clearly Communicate Impact on Team: It's impor...   \n",
       "\n",
       "                                                 query   query_t  \\\n",
       "0    How to communicate with employees in a profess...  3.455118   \n",
       "1    How to communicate with employees in a profess...  1.926185   \n",
       "2    How to effectively provide context and explain...  1.043000   \n",
       "3    how to express empathy in leadership communica...  1.673025   \n",
       "4    How to effectively provide context and explain...  1.833553   \n",
       "..                                                 ...       ...   \n",
       "115  How to avoid making assumptions about an emplo...  1.716659   \n",
       "116  How to provide feedback without sounding judgm...  0.788049   \n",
       "117  How to encourage collaborative problem-solving...  1.157396   \n",
       "118  How to express support for employee needs and ...  3.194340   \n",
       "119  How to communicate the impact of an employee's...  1.105049   \n",
       "\n",
       "                                        feedback_local  feedback_local_time  \\\n",
       "0    Enhancing Professionalism and Respect in Commu...             7.974918   \n",
       "1    Enhancing Professionalism and Respect in Commu...             7.883796   \n",
       "2    Providing Context and Explaining Reasons Behin...             8.090895   \n",
       "3    Expressing Empathy in Leadership Communication...             8.505779   \n",
       "4    Provide Context and Importance: When making a ...            30.844002   \n",
       "..                                                 ...                  ...   \n",
       "115  Enhancing Open Communication and Avoiding Assu...             8.157713   \n",
       "116  Avoiding Judgmental Phrasing While Providing E...             6.127400   \n",
       "117  Emphasize Collaborative Problem-Solving: To fo...            10.145669   \n",
       "118  Enhancing Support for Employee Needs: To bette...             6.891391   \n",
       "119  Clearly Communicate Impact on Team Without Att...             7.427195   \n",
       "\n",
       "    feedback_local_c_tokens feedback_local_p_tokens  \\\n",
       "0                       189                    2951   \n",
       "1                       192                    2951   \n",
       "2                       192                    2904   \n",
       "3                       165                    2752   \n",
       "4                       238                    2919   \n",
       "..                      ...                     ...   \n",
       "115                     193                    2771   \n",
       "116                     161                    2816   \n",
       "117                     233                    2594   \n",
       "118                     154                    2172   \n",
       "119                     181                    3069   \n",
       "\n",
       "                                          feedback_web  feedback_web_time  \\\n",
       "0    Enhancing Professional Communication and Respe...          12.577793   \n",
       "1    Enhancing Professional Communication and Respe...          13.009650   \n",
       "2    Consideration and Context in Leadership Commun...          17.359145   \n",
       "3    Enhancing Empathy in Leadership Communication:...          14.925500   \n",
       "4    Provide Context and Importance: When making a ...          17.712837   \n",
       "..                                                 ...                ...   \n",
       "115  Avoiding Assumptions and Engaging in Open Comm...          17.477256   \n",
       "116  Avoid Potentially Judgmental Phrasing: When pr...          18.879271   \n",
       "117  Emphasize Collaborative Problem-Solving: To en...          14.321613   \n",
       "118  Enhancing Support for Employee Needs: To bette...          20.936828   \n",
       "119  Clearly Communicate Impact on Team Without Att...          13.880876   \n",
       "\n",
       "    feedback_web_c_tokens feedback_web_p_tokens  \n",
       "0                     166                  2961  \n",
       "1                     167                  2958  \n",
       "2                     208                  2955  \n",
       "3                     211                  2924  \n",
       "4                     265                  2951  \n",
       "..                    ...                   ...  \n",
       "115                   187                  3021  \n",
       "116                   192                  2993  \n",
       "117                   197                  2937  \n",
       "118                   165                  2988  \n",
       "119                   176                  2995  \n",
       "\n",
       "[120 rows x 11 columns]"
      ]
     },
     "execution_count": 69,
     "metadata": {},
     "output_type": "execute_result"
    }
   ],
   "source": [
    "df"
   ]
  },
  {
   "cell_type": "code",
   "execution_count": null,
   "metadata": {},
   "outputs": [],
   "source": [
    "# All web RAG errors\n",
    "err_idx = [10,30,35,43,86,90]"
   ]
  },
  {
   "cell_type": "markdown",
   "metadata": {},
   "source": [
    "## AI Model Trustworthiness Judge"
   ]
  },
  {
   "cell_type": "code",
   "execution_count": 121,
   "metadata": {},
   "outputs": [],
   "source": [
    "import pandas as pd\n",
    "import openai\n",
    "import json\n",
    "from pathlib import Path\n",
    "import matplotlib.pyplot as plt\n",
    "import seaborn as sns"
   ]
  },
  {
   "cell_type": "code",
   "execution_count": 297,
   "metadata": {},
   "outputs": [],
   "source": [
    "JSON_DATASET_PATH = Path('llm_judge_results.json')\n",
    "\n",
    "system_prompt = '''\n",
    "You are a judge of leadership communication feedback trustworthiness. Below you will be provided with two pieces of feedback related to a hypothetical leadership communication utterance. Your task is to choose which of the two you feel is more **trustworthy**.\n",
    "\n",
    "You can return one of the following values ['A','B','Tie']. Return your choice in the form of a JSON object with the key 'choice'. An example of this is {'choice': 'A'}.\n",
    "'''\n",
    "\n",
    "prompt_template = '''\n",
    "Feedback A: {feedback_a}\n",
    "\n",
    "Feedback B: {feedback_b}\n",
    "'''\n",
    "\n",
    "methods = ['none', 'local', 'web']"
   ]
  },
  {
   "cell_type": "code",
   "execution_count": 77,
   "metadata": {},
   "outputs": [
    {
     "data": {
      "text/html": [
       "<div>\n",
       "<style scoped>\n",
       "    .dataframe tbody tr th:only-of-type {\n",
       "        vertical-align: middle;\n",
       "    }\n",
       "\n",
       "    .dataframe tbody tr th {\n",
       "        vertical-align: top;\n",
       "    }\n",
       "\n",
       "    .dataframe thead th {\n",
       "        text-align: right;\n",
       "    }\n",
       "</style>\n",
       "<table border=\"1\" class=\"dataframe\">\n",
       "  <thead>\n",
       "    <tr style=\"text-align: right;\">\n",
       "      <th></th>\n",
       "      <th>none</th>\n",
       "      <th>local</th>\n",
       "      <th>web</th>\n",
       "    </tr>\n",
       "  </thead>\n",
       "  <tbody>\n",
       "    <tr>\n",
       "      <th>0</th>\n",
       "      <td>Clarity and Respect: The communication could h...</td>\n",
       "      <td>Enhancing Professionalism and Respect in Commu...</td>\n",
       "      <td>Enhancing Professional Communication and Respe...</td>\n",
       "    </tr>\n",
       "    <tr>\n",
       "      <th>1</th>\n",
       "      <td>Clarity and Respect: The communication could h...</td>\n",
       "      <td>Enhancing Professionalism and Respect in Commu...</td>\n",
       "      <td>Enhancing Professional Communication and Respe...</td>\n",
       "    </tr>\n",
       "    <tr>\n",
       "      <th>2</th>\n",
       "      <td>Consideration and Context: It would be helpful...</td>\n",
       "      <td>Providing Context and Explaining Reasons Behin...</td>\n",
       "      <td>Consideration and Context in Leadership Commun...</td>\n",
       "    </tr>\n",
       "    <tr>\n",
       "      <th>3</th>\n",
       "      <td>Express Empathy: Starting the conversation wit...</td>\n",
       "      <td>Expressing Empathy in Leadership Communication...</td>\n",
       "      <td>Enhancing Empathy in Leadership Communication:...</td>\n",
       "    </tr>\n",
       "    <tr>\n",
       "      <th>4</th>\n",
       "      <td>Provide Context: It's important to provide con...</td>\n",
       "      <td>Provide Context and Importance: When making a ...</td>\n",
       "      <td>Provide Context and Importance: When making a ...</td>\n",
       "    </tr>\n",
       "  </tbody>\n",
       "</table>\n",
       "</div>"
      ],
      "text/plain": [
       "                                                none  \\\n",
       "0  Clarity and Respect: The communication could h...   \n",
       "1  Clarity and Respect: The communication could h...   \n",
       "2  Consideration and Context: It would be helpful...   \n",
       "3  Express Empathy: Starting the conversation wit...   \n",
       "4  Provide Context: It's important to provide con...   \n",
       "\n",
       "                                               local  \\\n",
       "0  Enhancing Professionalism and Respect in Commu...   \n",
       "1  Enhancing Professionalism and Respect in Commu...   \n",
       "2  Providing Context and Explaining Reasons Behin...   \n",
       "3  Expressing Empathy in Leadership Communication...   \n",
       "4  Provide Context and Importance: When making a ...   \n",
       "\n",
       "                                                 web  \n",
       "0  Enhancing Professional Communication and Respe...  \n",
       "1  Enhancing Professional Communication and Respe...  \n",
       "2  Consideration and Context in Leadership Commun...  \n",
       "3  Enhancing Empathy in Leadership Communication:...  \n",
       "4  Provide Context and Importance: When making a ...  "
      ]
     },
     "execution_count": 77,
     "metadata": {},
     "output_type": "execute_result"
    }
   ],
   "source": [
    "df = pd.read_csv('data/feedback_results.csv')\n",
    "df = df[['feedback','feedback_local','feedback_web']].rename(columns={'feedback':'none','feedback_local':'local','feedback_web':'web'})\n",
    "col_names = list(df.columns)\n",
    "df.head()"
   ]
  },
  {
   "cell_type": "code",
   "execution_count": 206,
   "metadata": {},
   "outputs": [],
   "source": [
    "def get_random_feedback():\n",
    "    sample = {}\n",
    "    x = df.sample(1, replace=True, axis=0)\n",
    "    sample['index'] = x.index[0]\n",
    "    x = x.sample(2, replace=False, axis=1)\n",
    "    sample['a_method'] = x.columns[0]\n",
    "    sample['b_method'] = x.columns[1]\n",
    "    sample['a_feedback'] = x.values[0][0]\n",
    "    sample['b_feedback'] = x.values[0][1]\n",
    "    # print(f\"Sampled: {sample['index']}\")\n",
    "    return sample\n",
    "\n",
    "def vote(vote, sample):\n",
    "    battle_outcome = {\n",
    "        'sample_index': str(sample['index']),\n",
    "        'sample_a_method': sample['a_method'],\n",
    "        'sample_b_method': sample['b_method']\n",
    "    }\n",
    "    if vote == 'A':\n",
    "        battle_outcome['winner'] = sample['a_method']\n",
    "    elif vote == 'B':\n",
    "        battle_outcome['winner'] = sample['b_method']\n",
    "    elif vote == 'Tie':\n",
    "        battle_outcome['winner'] = 'tie'\n",
    "    # print(f\"Voted: {sample['index']}\")\n",
    "    battle_results.append(battle_outcome)\n",
    "    save_json()\n",
    "    # print(battle_outcome)\n",
    "    return\n",
    "\n",
    "def save_json() -> None:\n",
    "    with JSON_DATASET_PATH.open(\"w\") as f:\n",
    "        json.dump(battle_results, f)\n",
    "\n",
    "def graph_battle_totals(results):\n",
    "    temp = pd.DataFrame(results)\n",
    "    total_battles = pd.concat([temp[\"sample_a_method\"], temp[\"sample_b_method\"]]).value_counts()\n",
    "    temp = total_battles.reset_index()\n",
    "    temp.columns = [\"method\", \"total_battles\"]\n",
    "    sns.barplot(temp, x=\"method\", y=\"total_battles\", hue=\"method\", order=methods)\n",
    "    plt.title(\"Total Battles\")\n",
    "\n",
    "def graph_battle_h2h(results):\n",
    "    temp = pd.DataFrame(results)\n",
    "    temp[\"model_combination\"] = temp.apply(\n",
    "        lambda x: tuple(sorted([x[\"sample_a_method\"], x[\"sample_b_method\"]])), axis=1\n",
    "    )\n",
    "\n",
    "    # Count combinations\n",
    "    combination_counts = temp[\"model_combination\"].value_counts().reset_index()\n",
    "    combination_counts.columns = [\"model_combination\", \"count\"]\n",
    "\n",
    "    # Pivot the data for heatmap\n",
    "    pivot_table = combination_counts.pivot_table(\n",
    "        index=\"model_combination\", columns=\"model_combination\", values=\"count\"\n",
    "    )\n",
    "\n",
    "    # The pivot_table needs to be adjusted to ensure it's in the correct format for a heatmap\n",
    "    # First, we'll extract the unique models to create the correct matrix shape\n",
    "    unique_models = sorted(set(temp[\"sample_a_method\"]) | set(temp[\"sample_b_method\"]))\n",
    "\n",
    "    # Initialize a square dataframe with zeros\n",
    "    heatmap_data = pd.DataFrame(0, index=unique_models, columns=unique_models)\n",
    "\n",
    "    # Populate the heatmap data\n",
    "    for _, row in combination_counts.iterrows():\n",
    "        model_a, model_b = row[\"model_combination\"]\n",
    "        heatmap_data.loc[model_a, model_b] = row[\"count\"]\n",
    "        if model_a != model_b:  # Fill symmetric value if models are different\n",
    "            heatmap_data.loc[model_b, model_a] = row[\"count\"]\n",
    "\n",
    "    sns.heatmap(heatmap_data, cmap=\"viridis\", annot=True)\n",
    "    plt.title(\"Method Battle Count\")"
   ]
  },
  {
   "cell_type": "markdown",
   "metadata": {},
   "source": [
    "### GPT-4 Turbo"
   ]
  },
  {
   "cell_type": "code",
   "execution_count": null,
   "metadata": {},
   "outputs": [],
   "source": [
    "client = openai.OpenAI(api_key=os.environ['OPENAI_API_KEY'])"
   ]
  },
  {
   "cell_type": "code",
   "execution_count": null,
   "metadata": {},
   "outputs": [],
   "source": [
    "battle_results = []"
   ]
  },
  {
   "cell_type": "code",
   "execution_count": 215,
   "metadata": {},
   "outputs": [
    {
     "name": "stdout",
     "output_type": "stream",
     "text": [
      "Total Battles: 68\n"
     ]
    },
    {
     "data": {
      "image/png": "[encoded data removed]",
      "text/plain": [
       "<Figure size 640x480 with 2 Axes>"
      ]
     },
     "metadata": {},
     "output_type": "display_data"
    }
   ],
   "source": [
    "# Sample\n",
    "sample = get_random_feedback()\n",
    "msg = prompt_template.format(feedback_a=sample['a_feedback'], feedback_b=sample['b_feedback'])\n",
    "\n",
    "response = client.chat.completions.create(\n",
    "    model=\"gpt-4-0125-preview\",\n",
    "    response_format={ \"type\": \"json_object\" },\n",
    "    messages=[\n",
    "    {\"role\": \"system\", \"content\": system_prompt},\n",
    "    {\"role\": \"user\", \"content\": msg}\n",
    "    ]\n",
    ")\n",
    "\n",
    "v = json.loads(response.choices[0].message.content)['choice']\n",
    "vote(v, sample)\n",
    "print(f'Total Battles: {len(battle_results)}')\n",
    "\n",
    "graph_battle_h2h(battle_results)"
   ]
  },
  {
   "cell_type": "code",
   "execution_count": 217,
   "metadata": {},
   "outputs": [
    {
     "data": {
      "image/png": "[encoded data removed]",
      "text/plain": [
       "<Figure size 640x480 with 1 Axes>"
      ]
     },
     "metadata": {},
     "output_type": "display_data"
    }
   ],
   "source": [
    "graph_battle_totals(battle_results)"
   ]
  },
  {
   "cell_type": "markdown",
   "metadata": {},
   "source": [
    "### GPT-3.5 Turbo"
   ]
  },
  {
   "cell_type": "code",
   "execution_count": null,
   "metadata": {},
   "outputs": [],
   "source": [
    "client = openai.OpenAI(api_key=os.environ['OPENAI_API_KEY'])"
   ]
  },
  {
   "cell_type": "code",
   "execution_count": 218,
   "metadata": {},
   "outputs": [],
   "source": [
    "battle_results = []"
   ]
  },
  {
   "cell_type": "code",
   "execution_count": 295,
   "metadata": {},
   "outputs": [
    {
     "name": "stdout",
     "output_type": "stream",
     "text": [
      "Total Battles: 77\n"
     ]
    },
    {
     "data": {
      "image/png": "[encoded data removed]",
      "text/plain": [
       "<Figure size 640x480 with 2 Axes>"
      ]
     },
     "metadata": {},
     "output_type": "display_data"
    }
   ],
   "source": [
    "# Sample\n",
    "sample = get_random_feedback()\n",
    "msg = prompt_template.format(feedback_a=sample['a_feedback'], feedback_b=sample['b_feedback'])\n",
    "\n",
    "response = client.chat.completions.create(\n",
    "    model=\"gpt-3.5-turbo-0125\",\n",
    "    response_format={ \"type\": \"json_object\" },\n",
    "    messages=[\n",
    "    {\"role\": \"system\", \"content\": system_prompt},\n",
    "    {\"role\": \"user\", \"content\": msg}\n",
    "    ]\n",
    ")\n",
    "\n",
    "v = json.loads(response.choices[0].message.content)['choice']\n",
    "vote(v, sample)\n",
    "print(f'Total Battles: {len(battle_results)}')\n",
    "\n",
    "graph_battle_h2h(battle_results)"
   ]
  },
  {
   "cell_type": "code",
   "execution_count": 296,
   "metadata": {},
   "outputs": [
    {
     "data": {
      "image/png": "[encoded data removed]",
      "text/plain": [
       "<Figure size 640x480 with 1 Axes>"
      ]
     },
     "metadata": {},
     "output_type": "display_data"
    }
   ],
   "source": [
    "graph_battle_totals(battle_results)"
   ]
  },
  {
   "cell_type": "markdown",
   "metadata": {},
   "source": [
    "### Llama2:7b-Chat"
   ]
  },
  {
   "cell_type": "code",
   "execution_count": 298,
   "metadata": {},
   "outputs": [],
   "source": [
    "client = openai.OpenAI(base_url='http://localhost:11434/v1', api_key='ollama')"
   ]
  },
  {
   "cell_type": "code",
   "execution_count": 299,
   "metadata": {},
   "outputs": [],
   "source": [
    "battle_results = []"
   ]
  },
  {
   "cell_type": "code",
   "execution_count": 371,
   "metadata": {},
   "outputs": [
    {
     "name": "stdout",
     "output_type": "stream",
     "text": [
      "Total Battles: 72\n"
     ]
    },
    {
     "data": {
      "image/png": "[encoded data removed]",
      "text/plain": [
       "<Figure size 640x480 with 2 Axes>"
      ]
     },
     "metadata": {},
     "output_type": "display_data"
    }
   ],
   "source": [
    "# Sample\n",
    "sample = get_random_feedback()\n",
    "msg = prompt_template.format(feedback_a=sample['a_feedback'], feedback_b=sample['b_feedback'])\n",
    "\n",
    "response = client.chat.completions.create(\n",
    "    model=\"llama2:chat\",\n",
    "    response_format={ \"type\": \"json_object\" },\n",
    "    messages=[\n",
    "    {\"role\": \"system\", \"content\": system_prompt},\n",
    "    {\"role\": \"user\", \"content\": msg}\n",
    "    ]\n",
    ")\n",
    "\n",
    "v = json.loads(response.choices[0].message.content)['choice']\n",
    "vote(v, sample)\n",
    "print(f'Total Battles: {len(battle_results)}')\n",
    "\n",
    "graph_battle_h2h(battle_results)"
   ]
  },
  {
   "cell_type": "code",
   "execution_count": 372,
   "metadata": {},
   "outputs": [
    {
     "data": {
      "image/png": "[encoded data removed]",
      "text/plain": [
       "<Figure size 640x480 with 1 Axes>"
      ]
     },
     "metadata": {},
     "output_type": "display_data"
    }
   ],
   "source": [
    "graph_battle_totals(battle_results)"
   ]
  },
  {
   "cell_type": "markdown",
   "metadata": {},
   "source": [
    "**Notes:** Didn't run into issues with the JSON parsing. Fast"
   ]
  },
  {
   "cell_type": "markdown",
   "metadata": {},
   "source": [
    "### Gemma:instruct"
   ]
  },
  {
   "cell_type": "code",
   "execution_count": 373,
   "metadata": {},
   "outputs": [],
   "source": [
    "client = openai.OpenAI(base_url='http://localhost:11434/v1', api_key='ollama')"
   ]
  },
  {
   "cell_type": "code",
   "execution_count": 374,
   "metadata": {},
   "outputs": [],
   "source": [
    "battle_results = []"
   ]
  },
  {
   "cell_type": "code",
   "execution_count": 447,
   "metadata": {},
   "outputs": [
    {
     "name": "stdout",
     "output_type": "stream",
     "text": [
      "Total Battles: 73\n"
     ]
    },
    {
     "data": {
      "image/png": "[encoded data removed]",
      "text/plain": [
       "<Figure size 640x480 with 2 Axes>"
      ]
     },
     "metadata": {},
     "output_type": "display_data"
    }
   ],
   "source": [
    "# Sample\n",
    "sample = get_random_feedback()\n",
    "msg = prompt_template.format(feedback_a=sample['a_feedback'], feedback_b=sample['b_feedback'])\n",
    "\n",
    "response = client.chat.completions.create(\n",
    "    model=\"gemma:instruct\",\n",
    "    response_format={ \"type\": \"json_object\" },\n",
    "    messages=[\n",
    "    {\"role\": \"system\", \"content\": system_prompt},\n",
    "    {\"role\": \"user\", \"content\": msg}\n",
    "    ]\n",
    ")\n",
    "\n",
    "v = json.loads(response.choices[0].message.content)['choice']\n",
    "vote(v, sample)\n",
    "print(f'Total Battles: {len(battle_results)}')\n",
    "\n",
    "graph_battle_h2h(battle_results)"
   ]
  },
  {
   "cell_type": "code",
   "execution_count": 448,
   "metadata": {},
   "outputs": [
    {
     "data": {
      "image/png": "[encoded data removed]",
      "text/plain": [
       "<Figure size 640x480 with 1 Axes>"
      ]
     },
     "metadata": {},
     "output_type": "display_data"
    }
   ],
   "source": [
    "graph_battle_totals(battle_results)"
   ]
  },
  {
   "cell_type": "markdown",
   "metadata": {},
   "source": [
    "**Notes:** Definitely not fast compared to Llama2. Feels about as fast as GPT-4 Turbo. No issues with JSON parsing."
   ]
  },
  {
   "cell_type": "markdown",
   "metadata": {},
   "source": [
    "### Mistral"
   ]
  },
  {
   "cell_type": "code",
   "execution_count": 450,
   "metadata": {},
   "outputs": [],
   "source": [
    "client = openai.OpenAI(base_url='http://localhost:11434/v1', api_key='ollama')"
   ]
  },
  {
   "cell_type": "code",
   "execution_count": 451,
   "metadata": {},
   "outputs": [],
   "source": [
    "battle_results = []"
   ]
  },
  {
   "cell_type": "code",
   "execution_count": 511,
   "metadata": {},
   "outputs": [
    {
     "name": "stdout",
     "output_type": "stream",
     "text": [
      "Total Battles: 60\n"
     ]
    },
    {
     "data": {
      "image/png": "[encoded data removed]",
      "text/plain": [
       "<Figure size 640x480 with 2 Axes>"
      ]
     },
     "metadata": {},
     "output_type": "display_data"
    }
   ],
   "source": [
    "# Sample\n",
    "sample = get_random_feedback()\n",
    "msg = prompt_template.format(feedback_a=sample['a_feedback'], feedback_b=sample['b_feedback'])\n",
    "\n",
    "response = client.chat.completions.create(\n",
    "    model=\"mistral\",\n",
    "    response_format={ \"type\": \"json_object\" },\n",
    "    messages=[\n",
    "    {\"role\": \"system\", \"content\": system_prompt},\n",
    "    {\"role\": \"user\", \"content\": msg}\n",
    "    ]\n",
    ")\n",
    "\n",
    "v = json.loads(response.choices[0].message.content)['choice']\n",
    "vote(v, sample)\n",
    "print(f'Total Battles: {len(battle_results)}')\n",
    "\n",
    "graph_battle_h2h(battle_results)"
   ]
  },
  {
   "cell_type": "code",
   "execution_count": 512,
   "metadata": {},
   "outputs": [
    {
     "data": {
      "image/png": "[encoded data removed]",
      "text/plain": [
       "<Figure size 640x480 with 1 Axes>"
      ]
     },
     "metadata": {},
     "output_type": "display_data"
    }
   ],
   "source": [
    "graph_battle_totals(battle_results)"
   ]
  },
  {
   "cell_type": "markdown",
   "metadata": {},
   "source": [
    "**Notes:** Decently fast. No issues with JSON parsing"
   ]
  }
 ],
 "metadata": {
  "kernelspec": {
   "display_name": "test",
   "language": "python",
   "name": "python3"
  },
  "language_info": {
   "codemirror_mode": {
    "name": "ipython",
    "version": 3
   },
   "file_extension": ".py",
   "mimetype": "text/x-python",
   "name": "python",
   "nbconvert_exporter": "python",
   "pygments_lexer": "ipython3",
   "version": "3.12.2"
  }
 },
 "nbformat": 4,
 "nbformat_minor": 2
}
